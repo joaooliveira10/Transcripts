{
 "cells": [
  {
   "cell_type": "code",
   "execution_count": null,
   "id": "15113a86",
   "metadata": {},
   "outputs": [],
   "source": [
    "import openai\n",
    "from dotenv import load_dotenv, find_dotenv\n",
    "_ = load_dotenv(find_dotenv())\n",
    "\n",
    "client = openai.OpenAI()"
   ]
  },
  {
   "cell_type": "markdown",
   "metadata": {},
   "source": []
  },
  {
   "attachments": {},
   "cell_type": "markdown",
   "id": "226a8971",
   "metadata": {},
   "source": [
    "### Transcrição de Áudio"
   ]
  },
  {
   "cell_type": "code",
   "execution_count": null,
   "metadata": {},
   "outputs": [],
   "source": [
    "arquivo_audio = open('media/original.mp3', mode='rb')\n",
    "\n",
    "transcricao = client.audio.transcriptions.create(\n",
    "    model='whisper-1',\n",
    "    language='pt',\n",
    "    response_format='text',\n",
    "    file=arquivo_audio,\n",
    ")\n",
    "\n",
    "print(transcricao)"
   ]
  },
  {
   "attachments": {},
   "cell_type": "markdown",
   "id": "900370cc",
   "metadata": {},
   "source": [
    "### Adicionando prompts"
   ]
  },
  {
   "cell_type": "code",
   "execution_count": null,
   "id": "861620d0",
   "metadata": {},
   "outputs": [],
   "source": [
    "arquivo_audio = open('media/original.mp3', mode='rb')\n",
    "prompt = 'Olá, seja bem-vindo'\n",
    "\n",
    "transcricao = client.audio.transcriptions.create(\n",
    "    model='whisper-1',\n",
    "    language='pt',\n",
    "    response_format='text',\n",
    "    file=arquivo_audio,\n",
    "    prompt=prompt,\n",
    ")\n",
    "\n",
    "print(transcricao)"
   ]
  },
  {
   "cell_type": "code",
   "execution_count": null,
   "metadata": {},
   "outputs": [],
   "source": [
    "arquivo_audio = open('media/original.mp3', mode='rb')\n",
    "prompt = 'Olá, seja bem-vindo. Teste!'\n",
    "\n",
    "transcricao = client.audio.transcriptions.create(\n",
    "    model='whisper-1',\n",
    "    language='pt',\n",
    "    response_format='text',\n",
    "    file=arquivo_audio,\n",
    "    prompt=prompt,\n",
    ")\n",
    "\n",
    "print(transcricao)"
   ]
  },
  {
   "attachments": {},
   "cell_type": "markdown",
   "id": "8486459a",
   "metadata": {},
   "source": [
    "### Outros formatos de outputs"
   ]
  },
  {
   "cell_type": "code",
   "execution_count": null,
   "id": "f70ec742",
   "metadata": {},
   "outputs": [],
   "source": [
    "arquivo_audio = open('media/original.mp3', mode='rb')\n",
    "prompt = 'Olá, seja bem-vindo. Teste!'\n",
    "\n",
    "transcricao = client.audio.transcriptions.create(\n",
    "    model='whisper-1',\n",
    "    language='pt',\n",
    "    response_format='srt',\n",
    "    file=arquivo_audio,\n",
    "    prompt=prompt,\n",
    ")\n",
    "\n",
    "print(transcricao)"
   ]
  },
  {
   "cell_type": "code",
   "execution_count": null,
   "metadata": {},
   "outputs": [],
   "source": []
  }
 ],
 "metadata": {
  "kernelspec": {
   "display_name": "Python 3 (ipykernel)",
   "language": "python",
   "name": "python3"
  },
  "language_info": {
   "codemirror_mode": {
    "name": "ipython",
    "version": 3
   },
   "file_extension": ".py",
   "mimetype": "text/x-python",
   "name": "python",
   "nbconvert_exporter": "python",
   "pygments_lexer": "ipython3",
   "version": "3.11.4"
  }
 },
 "nbformat": 4,
 "nbformat_minor": 5
}
